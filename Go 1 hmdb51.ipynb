{
 "cells": [
  {
   "cell_type": "code",
   "execution_count": 1,
   "metadata": {},
   "outputs": [
    {
     "name": "stdout",
     "output_type": "stream",
     "text": [
      "/home/muhammadbsheikh/workspace/try\n"
     ]
    }
   ],
   "source": [
    "cd /home/muhammadbsheikh/workspace/try"
   ]
  },
  {
   "cell_type": "code",
   "execution_count": 2,
   "metadata": {},
   "outputs": [],
   "source": [
    "import glob as glob\n",
    "import shutil\n",
    "rep = '7'"
   ]
  },
  {
   "cell_type": "code",
   "execution_count": 3,
   "metadata": {},
   "outputs": [],
   "source": [
    "%matplotlib inline\n",
    "import matplotlib.pyplot as plt\n",
    "import matplotlib.image as mpimg\n",
    "import librosa.display\n",
    "\n",
    "def showimage(path):\n",
    "    img = mpimg.imread(path)\n",
    "    plt.imshow(img)\n",
    "    plt.axis('off')\n",
    "    plt.show()\n",
    "\n",
    "def show_audio(rep,path):\n",
    "    plt.axis('off')\n",
    "    if rep =='a1':\n",
    "        plt.figure(figsize=(14, 5))\n",
    "        librosa.display.waveplot(x, sr=sr)\n",
    "        #print('a1:waveplot')\n",
    "    else:\n",
    "        img = mpimg.imread(path)\n",
    "        plt.imshow(img)\n",
    "        plt.show()\n",
    "\n",
    "def get_specfilename(name,folder):\n",
    "    name = name.split('.')[0]\n",
    "    name =  name.split('/')[1].split('_')\n",
    "    name = folder+'_'.join(name)+'.png'\n",
    "    return name\n",
    "\n",
    "def get_audio_classes():\n",
    "    files = glob.glob('wav/*')\n",
    "    cats = set()\n",
    "    for f in files:\n",
    "        cats.add(f.split('/')[1].split('_')[0])\n",
    "    return cats #set\n",
    "\n",
    "#get split files\n",
    "def get_split(number,train):\n",
    "    splits = [\n",
    "    #test = 0\n",
    "    ['/home/muhammadbsheikh/workspace/ucf101/splits/ucfTrainTestlist/testlist01.txt',\n",
    "    '/home/muhammadbsheikh/workspace/ucf101/splits/ucfTrainTestlist/testlist02.txt',\n",
    "    '/home/muhammadbsheikh/workspace/ucf101/splits/ucfTrainTestlist/testlist03.txt'],\n",
    "    #train = 1\n",
    "    ['/home/muhammadbsheikh/workspace/ucf101/splits/ucfTrainTestlist/trainlist01.txt',\n",
    "    '/home/muhammadbsheikh/workspace/ucf101/splits/ucfTrainTestlist/trainlist02.txt',\n",
    "    '/home/muhammadbsheikh/workspace/ucf101/splits/ucfTrainTestlist/trainlist03.txt']]\n",
    "    \n",
    "    files = []\n",
    "    file = open(splits[train][number])\n",
    "    lines = file.readlines()\n",
    "    for line in lines:\n",
    "        filename = line.split(' ')[0]\n",
    "        files.append(filename)\n",
    "    return files #list"
   ]
  },
  {
   "cell_type": "code",
   "execution_count": null,
   "metadata": {},
   "outputs": [],
   "source": [
    "#convert hmdb to wave \n",
    "import glob as glob\n",
    "import os\n",
    "import sys\n",
    "vidpath = '/home/muhammadbsheikh/workspace/computervision-recipes/data/misc/hmdb51/videos'\n",
    "wavpath = '/home/muhammadbsheikh/workspace/computervision-recipes/data/misc/wav_hmdb51'\n",
    "folders = glob.glob(vidpath+'/*')\n",
    "print(len(folders))\n",
    "\n",
    "def gen_avitowav(src,des):\n",
    "    #!ffmpeg -i $src -ab 160k -ac 2 -ar 44100 -vn $des -nostats -loglevel 0\n",
    "    !ffmpeg -i $src -vn -acodec copy $des -nostats -loglevel 0\n",
    "\n",
    "def get_wavfilename(name):\n",
    "    name = name.split('.')[0]\n",
    "    name =  name.split('/')[1].split('_')[1:]\n",
    "    name = 'wav/'+'_'.join(name)+'.wav'\n",
    "    #name = 'wav/'+name+'.wav'\n",
    "    return name\n",
    "\n",
    "for i,action in enumerate(folders):\n",
    "    vids = glob.glob(action+'/*')\n",
    "    print(i)\n",
    "    for vid in vids:\n",
    "        src = vid\n",
    "        #print(src)\n",
    "        # create action folder if it does not exist\n",
    "        dir = src.split('/')[-2]\n",
    "        path = wavpath+'/'+dir    \n",
    "        wav  = src.split('.')[0].split('/')[-1] # extracts the filename\n",
    "        wav = path+ '/' + wav+'.wav'\n",
    "\n",
    "        if os.path.exists(path):\n",
    "            #print('already exists')     \n",
    "            #print(path)           \n",
    "            gen_avitowav(src,wav)\n",
    "        else:        \n",
    "            #print(path)\n",
    "            os.mkdir(path)    \n",
    "            gen_avitowav(src,wav)\n",
    "\n",
    "        \n",
    "    \n",
    "print(src,wav)"
   ]
  },
  {
   "cell_type": "code",
   "execution_count": null,
   "metadata": {},
   "outputs": [],
   "source": [
    "import librosa\n",
    "import matplotlib.pyplot as plt\n",
    "import librosa.display\n",
    "import glob as glob\n",
    "import sklearn\n",
    "\n",
    "audio_files = glob.glob('wav/*')\n",
    "#audio = audio_files[0]\n",
    "\n",
    "for audio in audio_files:\n",
    "    #default sampling rate(sr) of 22KHZ mono\n",
    "    #sr=44100 for resampling\n",
    "    #load audio\n",
    "    x , sr = librosa.load(audio,sr=None)\n",
    "    #print(type(x), type(sr),x.shape, sr)\n",
    "\n",
    "    %matplotlib inline\n",
    "    #a3\n",
    "    # a1 \n",
    "    plt.figure(figsize=(5, 5))\n",
    "    plt.axis('off')\n",
    "    librosa.display.waveplot(x, sr=sr)\n",
    "    # save as PNG\n",
    "    out = get_specfilename(audio,'ax/1/')\n",
    "    #out = 'a1/'+audio+''.png\n",
    "    plt.savefig(out)\n",
    "    \n",
    "    \n",
    "    print(audio,len(glob.glob('ax/1/*')),len(glob.glob('ax/2/*')),len(glob.glob('ax/3/*')),len(glob.glob('ax/4/*')),\n",
    "         len(glob.glob('ax/5/*')),len(glob.glob('ax/6/*')),len(glob.glob('ax/7/*')),len(glob.glob('ax/8/*')))"
   ]
  },
  {
   "cell_type": "code",
   "execution_count": null,
   "metadata": {},
   "outputs": [],
   "source": [
    "import glob as glob\n",
    "for i in range(1,9):\n",
    "    files  = glob.glob('ax/'+str(i)+'/*')\n",
    "    print(len(files))"
   ]
  },
  {
   "cell_type": "code",
   "execution_count": null,
   "metadata": {},
   "outputs": [],
   "source": [
    "files  = glob.glob('ax/1/*')   \n",
    "files[0]"
   ]
  },
  {
   "cell_type": "code",
   "execution_count": null,
   "metadata": {},
   "outputs": [],
   "source": [
    "\n",
    "for i in range(1,9):\n",
    "    files  = glob.glob('ax/'+str(i)+'/*')    \n",
    "    cat = files[0].split('/')[2].split('_')[0]\n",
    "    print(cat)\n",
    "    break\n",
    "# mkdir cat\n"
   ]
  },
  {
   "cell_type": "code",
   "execution_count": null,
   "metadata": {},
   "outputs": [],
   "source": [
    "mkdir train\n",
    "mkdir test"
   ]
  },
  {
   "cell_type": "code",
   "execution_count": null,
   "metadata": {},
   "outputs": [],
   "source": [
    "\n",
    "split = 2\n",
    "\n",
    "  \n",
    "\n",
    "\n",
    "files = get_split(2,False)\n",
    "len(files)\n"
   ]
  },
  {
   "cell_type": "code",
   "execution_count": null,
   "metadata": {},
   "outputs": [],
   "source": [
    "s1 = '/home/muhammadbsheikh/workspace/ucf101/splits/ucfTrainTestlist/testlist01.txt'\n",
    "s2 = '/home/muhammadbsheikh/workspace/ucf101/splits/ucfTrainTestlist/testlist02.txt'\n",
    "s3 = '/home/muhammadbsheikh/workspace/ucf101/splits/ucfTrainTestlist/testlist03.txt'\n",
    "\n",
    "r = open(s1)\n",
    "s1_split = []\n",
    "lines = r.readlines()\n",
    "for line in lines:\n",
    "    filename = line.split(' ')[0]\n",
    "    s1_split.append(filename)\n",
    "    \n",
    "print(len(s1_split)) "
   ]
  },
  {
   "cell_type": "code",
   "execution_count": null,
   "metadata": {},
   "outputs": [],
   "source": [
    "# create data ready for rep\n",
    "import os \n",
    "cwd = os.getcwd()\n",
    "data_dir = cwd + '/datax/'+rep+'/'\n",
    "if not os.path.exists(data_dir):    \n",
    "    os.mkdir(data_dir)\n",
    "    os.mkdir(data_dir+'/train/')\n",
    "    os.mkdir(data_dir+'/test/')\n",
    "else:\n",
    "    print('yes')\n",
    "    print(data_dir)\n"
   ]
  },
  {
   "cell_type": "code",
   "execution_count": null,
   "metadata": {},
   "outputs": [],
   "source": [
    "# move files to their folders\n",
    "files = glob.glob('ax/'+rep+'/*')\n",
    "for i,f in enumerate(files):\n",
    "    folder = f.split('/')[2].split('_')[0]\n",
    "\n",
    "    data_dir = os.getcwd() + '/datax/'+rep+'/'+folder\n",
    "    if not os.path.exists(data_dir):    \n",
    "        os.mkdir(data_dir)\n",
    "        shutil.copy(f,data_dir)    \n",
    "    else:        \n",
    "        shutil.copy(f,data_dir)    \n",
    "    \n",
    "print(i)"
   ]
  },
  {
   "cell_type": "code",
   "execution_count": null,
   "metadata": {},
   "outputs": [],
   "source": [
    "# move files to cats as per split\n",
    "# split 1 \n",
    "train = get_split(1,True)\n",
    "\n",
    "for i,png in enumerate(train):\n",
    "    file = png.split('.')[0].split('v_')[0] + png.split('.')[0].split('v_')[1]\n",
    "    new_src = os.getcwd() +'/datax/'+rep+'/'+file+'.png'\n",
    "    \n",
    "    folder = file.split('/')[0]\n",
    "    dest = os.getcwd() + '/datax/'+rep+'/train/'+folder\n",
    "    if os.path.exists(new_src):\n",
    "        if not os.path.exists(dest):    \n",
    "            os.mkdir(dest)\n",
    "            shutil.copy(new_src,dest)    \n",
    "        else:        \n",
    "            shutil.copy(new_src,dest) \n",
    "\n",
    "    #print(data_dir)\n",
    "\n",
    "print(i)"
   ]
  },
  {
   "cell_type": "code",
   "execution_count": null,
   "metadata": {},
   "outputs": [],
   "source": [
    "len(glob.glob('datax/'+rep+'/train/*/*.png'))"
   ]
  },
  {
   "cell_type": "code",
   "execution_count": null,
   "metadata": {},
   "outputs": [],
   "source": [
    "# move files to cats as per split\n",
    "# split 1 \n",
    "test = get_split(2,False)\n",
    "\n",
    "for i,png in enumerate(test):\n",
    "    file = png.split('.')[0].split('v_')[0] + png.split('.')[0].split('v_')[1]\n",
    "    new_src = os.getcwd() +'/datax/'+rep+'/'+file+'.png'\n",
    "    \n",
    "    folder = file.split('/')[0]\n",
    "    dest = os.getcwd() + '/datax/'+rep+'/test/'+folder\n",
    "    if os.path.exists(new_src):\n",
    "        if not os.path.exists(dest):    \n",
    "            os.mkdir(dest)\n",
    "            shutil.copy(new_src,dest)    \n",
    "        else:        \n",
    "            shutil.copy(new_src,dest) \n",
    "\n",
    "    #print(data_dir)\n",
    "\n",
    "print(i)"
   ]
  },
  {
   "cell_type": "code",
   "execution_count": null,
   "metadata": {},
   "outputs": [],
   "source": [
    "len(glob.glob('datax/'+rep+'/test/*/*.png'))"
   ]
  },
  {
   "cell_type": "code",
   "execution_count": null,
   "metadata": {},
   "outputs": [],
   "source": [
    "rm -r datax/1/train/* datax/1/test/*"
   ]
  }
 ],
 "metadata": {
  "interpreter": {
   "hash": "0239f972e8efcc00ec9fa7a595c90a818e30a75607d9e34132d6cc1dc8c76e26"
  },
  "kernelspec": {
   "display_name": "Python 3.8.8 64-bit ('pytorchpy38': conda)",
   "name": "python3"
  },
  "language_info": {
   "codemirror_mode": {
    "name": "ipython",
    "version": 3
   },
   "file_extension": ".py",
   "mimetype": "text/x-python",
   "name": "python",
   "nbconvert_exporter": "python",
   "pygments_lexer": "ipython3",
   "version": "3.8.8"
  },
  "orig_nbformat": 4
 },
 "nbformat": 4,
 "nbformat_minor": 2
}
