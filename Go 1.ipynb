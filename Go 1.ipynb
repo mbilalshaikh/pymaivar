{
 "cells": [
  {
   "cell_type": "code",
   "execution_count": 1,
   "source": [
    "cd /home/muhammadbsheikh/workspace/try"
   ],
   "outputs": [
    {
     "output_type": "stream",
     "name": "stdout",
     "text": [
      "/home/muhammadbsheikh/workspace/try\n"
     ]
    }
   ],
   "metadata": {}
  },
  {
   "cell_type": "code",
   "execution_count": 3,
   "source": [
    "import glob as glob\n",
    "import shutil\n",
    "rep = '6'"
   ],
   "outputs": [],
   "metadata": {}
  },
  {
   "cell_type": "code",
   "execution_count": 4,
   "source": [
    "%matplotlib inline\n",
    "import matplotlib.pyplot as plt\n",
    "import matplotlib.image as mpimg\n",
    "import librosa.display\n",
    "\n",
    "def showimage(path):\n",
    "    img = mpimg.imread(path)\n",
    "    plt.imshow(img)\n",
    "    plt.axis('off')\n",
    "    plt.show()\n",
    "\n",
    "def show_audio(rep,path):\n",
    "    plt.axis('off')\n",
    "    if rep =='a1':\n",
    "        plt.figure(figsize=(14, 5))\n",
    "        librosa.display.waveplot(x, sr=sr)\n",
    "        #print('a1:waveplot')\n",
    "    else:\n",
    "        img = mpimg.imread(path)\n",
    "        plt.imshow(img)\n",
    "        plt.show()\n",
    "\n",
    "def get_specfilename(name,folder):\n",
    "    name = name.split('.')[0]\n",
    "    name =  name.split('/')[1].split('_')\n",
    "    name = folder+'_'.join(name)+'.png'\n",
    "    return name\n",
    "\n",
    "def get_audio_classes():\n",
    "    files = glob.glob('wav/*')\n",
    "    cats = set()\n",
    "    for f in files:\n",
    "        cats.add(f.split('/')[1].split('_')[0])\n",
    "    return cats #set\n",
    "\n",
    "#get split files\n",
    "def get_split(number,train):\n",
    "    splits = [\n",
    "    #test = 0\n",
    "    ['/home/muhammadbsheikh/workspace/ucf101/splits/ucfTrainTestlist/testlist01.txt',\n",
    "    '/home/muhammadbsheikh/workspace/ucf101/splits/ucfTrainTestlist/testlist02.txt',\n",
    "    '/home/muhammadbsheikh/workspace/ucf101/splits/ucfTrainTestlist/testlist03.txt'],\n",
    "    #train = 1\n",
    "    ['/home/muhammadbsheikh/workspace/ucf101/splits/ucfTrainTestlist/trainlist01.txt',\n",
    "    '/home/muhammadbsheikh/workspace/ucf101/splits/ucfTrainTestlist/trainlist02.txt',\n",
    "    '/home/muhammadbsheikh/workspace/ucf101/splits/ucfTrainTestlist/trainlist03.txt']]\n",
    "    \n",
    "    files = []\n",
    "    file = open(splits[train][number])\n",
    "    lines = file.readlines()\n",
    "    for line in lines:\n",
    "        filename = line.split(' ')[0]\n",
    "        files.append(filename)\n",
    "    return files #list"
   ],
   "outputs": [],
   "metadata": {}
  },
  {
   "cell_type": "code",
   "execution_count": null,
   "source": [
    "import librosa\n",
    "import matplotlib.pyplot as plt\n",
    "import librosa.display\n",
    "import glob as glob\n",
    "import sklearn\n",
    "\n",
    "audio_files = glob.glob('wav/*')\n",
    "#audio = audio_files[0]\n",
    "\n",
    "for audio in audio_files:\n",
    "    #default sampling rate(sr) of 22KHZ mono\n",
    "    #sr=44100 for resampling\n",
    "    #load audio\n",
    "    x , sr = librosa.load(audio,sr=None)\n",
    "    #print(type(x), type(sr),x.shape, sr)\n",
    "\n",
    "    %matplotlib inline\n",
    "    #a3\n",
    "    # a1 \n",
    "    plt.figure(figsize=(5, 5))\n",
    "    plt.axis('off')\n",
    "    librosa.display.waveplot(x, sr=sr)\n",
    "    # save as PNG\n",
    "    out = get_specfilename(audio,'ax/1/')\n",
    "    #out = 'a1/'+audio+''.png\n",
    "    plt.savefig(out)\n",
    "    \n",
    "    \n",
    "    print(audio,len(glob.glob('ax/1/*')),len(glob.glob('ax/2/*')),len(glob.glob('ax/3/*')),len(glob.glob('ax/4/*')),\n",
    "         len(glob.glob('ax/5/*')),len(glob.glob('ax/6/*')),len(glob.glob('ax/7/*')),len(glob.glob('ax/8/*')))"
   ],
   "outputs": [],
   "metadata": {}
  },
  {
   "cell_type": "code",
   "execution_count": 5,
   "source": [
    "import glob as glob\n",
    "for i in range(1,9):\n",
    "    files  = glob.glob('ax/'+str(i)+'/*')\n",
    "    print(len(files))"
   ],
   "outputs": [
    {
     "output_type": "stream",
     "name": "stdout",
     "text": [
      "6837\n",
      "1226\n",
      "1896\n",
      "6837\n",
      "6837\n",
      "6837\n",
      "6837\n",
      "6837\n"
     ]
    }
   ],
   "metadata": {}
  },
  {
   "cell_type": "code",
   "execution_count": 6,
   "source": [
    "files  = glob.glob('ax/6/*')   \n",
    "files[0]"
   ],
   "outputs": [
    {
     "output_type": "execute_result",
     "data": {
      "text/plain": [
       "'ax/6/BasketballDunk_g18_c02.png'"
      ]
     },
     "metadata": {},
     "execution_count": 6
    }
   ],
   "metadata": {}
  },
  {
   "cell_type": "code",
   "execution_count": 7,
   "source": [
    "\n",
    "for i in range(1,9):\n",
    "    files  = glob.glob('ax/'+str(i)+'/*')    \n",
    "    cat = files[0].split('/')[2].split('_')[0]\n",
    "    print(cat)\n",
    "    break\n",
    "# mkdir cat\n"
   ],
   "outputs": [
    {
     "output_type": "stream",
     "name": "stdout",
     "text": [
      "BasketballDunk\n"
     ]
    }
   ],
   "metadata": {}
  },
  {
   "cell_type": "code",
   "execution_count": null,
   "source": [
    "mkdir train\n",
    "mkdir test"
   ],
   "outputs": [],
   "metadata": {}
  },
  {
   "cell_type": "code",
   "execution_count": null,
   "source": [
    "\n",
    "split = 2\n",
    "\n",
    "  \n",
    "\n",
    "\n",
    "files = get_split(2,False)\n",
    "len(files)\n"
   ],
   "outputs": [
    {
     "output_type": "execute_result",
     "data": {
      "text/plain": [
       "3696"
      ]
     },
     "metadata": {},
     "execution_count": 37
    }
   ],
   "metadata": {}
  },
  {
   "cell_type": "code",
   "execution_count": 8,
   "source": [
    "s1 = '/home/muhammadbsheikh/workspace/ucf101/splits/ucfTrainTestlist/testlist01.txt'\n",
    "s2 = '/home/muhammadbsheikh/workspace/ucf101/splits/ucfTrainTestlist/testlist02.txt'\n",
    "s3 = '/home/muhammadbsheikh/workspace/ucf101/splits/ucfTrainTestlist/testlist03.txt'\n",
    "\n",
    "r = open(s1)\n",
    "s1_split = []\n",
    "lines = r.readlines()\n",
    "for line in lines:\n",
    "    filename = line.split(' ')[0]\n",
    "    s1_split.append(filename)\n",
    "    \n",
    "print(len(s1_split)) "
   ],
   "outputs": [
    {
     "output_type": "stream",
     "name": "stdout",
     "text": [
      "3783\n"
     ]
    }
   ],
   "metadata": {}
  },
  {
   "cell_type": "code",
   "execution_count": 9,
   "source": [
    "# create data ready for rep\n",
    "import os \n",
    "cwd = os.getcwd()\n",
    "data_dir = cwd + '/datax/'+rep+'/'\n",
    "if not os.path.exists(data_dir):    \n",
    "    os.mkdir(data_dir)\n",
    "    os.mkdir(data_dir+'/train/')\n",
    "    os.mkdir(data_dir+'/test/')\n",
    "else:\n",
    "    print('yes')\n",
    "    print(data_dir)\n"
   ],
   "outputs": [
    {
     "output_type": "stream",
     "name": "stdout",
     "text": [
      "yes\n",
      "/home/muhammadbsheikh/workspace/try/datax/6/\n"
     ]
    }
   ],
   "metadata": {}
  },
  {
   "cell_type": "code",
   "execution_count": 10,
   "source": [
    "# move files to their folders\n",
    "files = glob.glob('ax/'+rep+'/*')\n",
    "for i,f in enumerate(files):\n",
    "    folder = f.split('/')[2].split('_')[0]\n",
    "\n",
    "    data_dir = os.getcwd() + '/datax/'+rep+'/'+folder\n",
    "    if not os.path.exists(data_dir):    \n",
    "        os.mkdir(data_dir)\n",
    "        shutil.copy(f,data_dir)    \n",
    "    else:        \n",
    "        shutil.copy(f,data_dir)    \n",
    "    \n",
    "print(i)"
   ],
   "outputs": [
    {
     "output_type": "stream",
     "name": "stdout",
     "text": [
      "6836\n"
     ]
    }
   ],
   "metadata": {}
  },
  {
   "cell_type": "code",
   "execution_count": 11,
   "source": [
    "# move files to cats as per split\n",
    "# split 1 \n",
    "train = get_split(1,True)\n",
    "\n",
    "for i,png in enumerate(train):\n",
    "    file = png.split('.')[0].split('v_')[0] + png.split('.')[0].split('v_')[1]\n",
    "    new_src = os.getcwd() +'/datax/'+rep+'/'+file+'.png'\n",
    "    \n",
    "    folder = file.split('/')[0]\n",
    "    dest = os.getcwd() + '/datax/'+rep+'/train/'+folder\n",
    "    if os.path.exists(new_src):\n",
    "        if not os.path.exists(dest):    \n",
    "            os.mkdir(dest)\n",
    "            shutil.copy(new_src,dest)    \n",
    "        else:        \n",
    "            shutil.copy(new_src,dest) \n",
    "\n",
    "    #print(data_dir)\n",
    "\n",
    "print(i)"
   ],
   "outputs": [
    {
     "output_type": "stream",
     "name": "stdout",
     "text": [
      "9585\n"
     ]
    }
   ],
   "metadata": {}
  },
  {
   "cell_type": "code",
   "execution_count": 12,
   "source": [
    "len(glob.glob('datax/'+rep+'/train/*/*.png'))"
   ],
   "outputs": [
    {
     "output_type": "execute_result",
     "data": {
      "text/plain": [
       "4835"
      ]
     },
     "metadata": {},
     "execution_count": 12
    }
   ],
   "metadata": {}
  },
  {
   "cell_type": "code",
   "execution_count": 13,
   "source": [
    "# move files to cats as per split\n",
    "# split 1 \n",
    "test = get_split(1,False)\n",
    "\n",
    "for i,png in enumerate(test):\n",
    "    file = png.split('.')[0].split('v_')[0] + png.split('.')[0].split('v_')[1]\n",
    "    new_src = os.getcwd() +'/datax/'+rep+'/'+file+'.png'\n",
    "    \n",
    "    folder = file.split('/')[0]\n",
    "    dest = os.getcwd() + '/datax/'+rep+'/test/'+folder\n",
    "    if os.path.exists(new_src):\n",
    "        if not os.path.exists(dest):    \n",
    "            os.mkdir(dest)\n",
    "            shutil.copy(new_src,dest)    \n",
    "        else:        \n",
    "            shutil.copy(new_src,dest) \n",
    "\n",
    "    #print(data_dir)\n",
    "\n",
    "print(i)"
   ],
   "outputs": [
    {
     "output_type": "stream",
     "name": "stdout",
     "text": [
      "3733\n"
     ]
    }
   ],
   "metadata": {}
  },
  {
   "cell_type": "code",
   "execution_count": null,
   "source": [
    "len(glob.glob('datax/'+rep+'/test/*/*.png'))"
   ],
   "outputs": [
    {
     "output_type": "execute_result",
     "data": {
      "text/plain": [
       "1854"
      ]
     },
     "metadata": {},
     "execution_count": 105
    }
   ],
   "metadata": {}
  },
  {
   "cell_type": "code",
   "execution_count": null,
   "source": [
    "rm -r datax/1/train/* datax/1/test/*"
   ],
   "outputs": [],
   "metadata": {}
  }
 ],
 "metadata": {
  "interpreter": {
   "hash": "0239f972e8efcc00ec9fa7a595c90a818e30a75607d9e34132d6cc1dc8c76e26"
  },
  "kernelspec": {
   "name": "python3",
   "display_name": "Python 3.8.8 64-bit ('pytorchpy38': conda)"
  },
  "language_info": {
   "name": "python",
   "version": "3.8.8",
   "mimetype": "text/x-python",
   "codemirror_mode": {
    "name": "ipython",
    "version": 3
   },
   "pygments_lexer": "ipython3",
   "nbconvert_exporter": "python",
   "file_extension": ".py"
  },
  "orig_nbformat": 4
 },
 "nbformat": 4,
 "nbformat_minor": 2
}