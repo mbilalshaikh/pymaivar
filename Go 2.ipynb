{
 "cells": [
  {
   "cell_type": "code",
   "execution_count": 2,
   "source": [
    "cd /home/muhammadbsheikh/workspace/try"
   ],
   "outputs": [
    {
     "output_type": "stream",
     "name": "stdout",
     "text": [
      "/home/muhammadbsheikh/workspace/try\n"
     ]
    }
   ],
   "metadata": {}
  },
  {
   "cell_type": "code",
   "execution_count": 6,
   "source": [
    "%matplotlib inline\n",
    "import matplotlib.pyplot as plt\n",
    "import matplotlib.image as mpimg\n",
    "import librosa.display\n",
    "\n",
    "def showimage(path):\n",
    "    img = mpimg.imread(path)\n",
    "    plt.imshow(img)\n",
    "    plt.axis('off')\n",
    "    plt.show()\n",
    "\n",
    "def show_audio(rep,path):\n",
    "    plt.axis('off')\n",
    "    if rep =='a1':\n",
    "        plt.figure(figsize=(14, 5))\n",
    "        librosa.display.waveplot(x, sr=sr)\n",
    "        #print('a1:waveplot')\n",
    "    else:\n",
    "        img = mpimg.imread(path)\n",
    "        plt.imshow(img)\n",
    "        plt.show()\n",
    "\n",
    "def get_specfilename(name,folder):\n",
    "    name = name.split('.')[0]\n",
    "    name =  name.split('/')[1].split('_')\n",
    "    name = folder+'_'.join(name)+'.png'\n",
    "    return name"
   ],
   "outputs": [],
   "metadata": {}
  },
  {
   "cell_type": "code",
   "execution_count": 8,
   "source": [
    "import librosa\n",
    "import matplotlib.pyplot as plt\n",
    "import librosa.display\n",
    "import glob as glob\n",
    "import sklearn\n",
    "\n",
    "audio_files = glob.glob('wav/*')\n",
    "#audio = audio_files[0]\n",
    "\n",
    "for audio in audio_files:\n",
    "    #default sampling rate(sr) of 22KHZ mono\n",
    "    #sr=44100 for resampling\n",
    "    #load audio\n",
    "    x , sr = librosa.load(audio,sr=None)\n",
    "    #print(type(x), type(sr),x.shape, sr)\n",
    "\n",
    "    %matplotlib inline\n",
    "    #a2\n",
    "    X = librosa.stft(x)\n",
    "    Xdb = librosa.amplitude_to_db(abs(X))\n",
    "    plt.figure(figsize=(5, 5))\n",
    "    librosa.display.specshow(Xdb, sr=sr, x_axis='time', y_axis='hz')\n",
    "    plt.axis('off')\n",
    "    out = get_specfilename(audio,'ax/2/')   \n",
    "    #out = 'a2/a2.png'\n",
    "    plt.savefig(out)\n",
    "    \n",
    "    print(audio,len(glob.glob('ax/1/*')),len(glob.glob('ax/2/*')),len(glob.glob('ax/3/*')),len(glob.glob('ax/4/*')),\n",
    "         len(glob.glob('ax/5/*')),len(glob.glob('ax/6/*')),len(glob.glob('ax/7/*')),len(glob.glob('ax/8/*')))"
   ],
   "outputs": [
    {
     "output_type": "stream",
     "name": "stdout",
     "text": [
      "wav/WritingOnBoard_g07_c06.wav 3303 1 0 0 0 0 0 0\n",
      "wav/LongJump_g11_c04.wav 3309 2 0 0 0 0 0 0\n",
      "wav/HandStandPushups_g04_c01.wav 3314 3 0 0 0 0 0 0\n",
      "wav/PlayingFlute_g22_c02.wav 3320 4 0 0 0 0 0 0\n",
      "wav/ApplyEyeMakeup_g19_c01.wav 3325 5 0 0 0 0 0 0\n",
      "wav/Shotput_g01_c05.wav 3328 6 0 0 0 0 0 0\n",
      "wav/StillRings_g09_c04.wav 3332 7 0 0 0 0 0 0\n",
      "wav/Surfing_g04_c02.wav 3338 8 0 0 0 0 0 0\n",
      "wav/WritingOnBoard_g05_c01.wav 3344 9 0 0 0 0 0 0\n",
      "wav/WritingOnBoard_g25_c07.wav 3349 10 0 0 0 0 0 0\n",
      "wav/BlowDryHair_g23_c03.wav 3352 11 0 0 0 0 0 0\n",
      "wav/PlayingCello_g20_c05.wav 3359 12 0 0 0 0 0 0\n",
      "wav/ApplyEyeMakeup_g14_c02.wav 3365 13 0 0 0 0 0 0\n",
      "wav/Rafting_g17_c02.wav 3373 14 0 0 0 0 0 0\n",
      "wav/ParallelBars_g07_c04.wav 3378 15 0 0 0 0 0 0\n",
      "wav/BabyCrawling_g19_c01.wav 3379 16 0 0 0 0 0 0\n",
      "wav/FieldHockeyPenalty_g11_c01.wav 3385 17 0 0 0 0 0 0\n",
      "wav/Surfing_g16_c01.wav 3392 18 0 0 0 0 0 0\n",
      "wav/BoxingPunchingBag_g05_c04.wav 3400 19 0 0 0 0 0 0\n",
      "wav/Rafting_g21_c02.wav 3403 20 0 0 0 0 0 0\n",
      "wav/BrushingTeeth_g21_c03.wav 3410 21 0 0 0 0 0 0\n",
      "wav/CricketBowling_g21_c05.wav 3415 22 0 0 0 0 0 0\n",
      "wav/BandMarching_g01_c06.wav 3420 23 0 0 0 0 0 0\n",
      "wav/ApplyEyeMakeup_g08_c03.wav 3424 24 0 0 0 0 0 0\n",
      "wav/CuttingInKitchen_g06_c05.wav 3429 25 0 0 0 0 0 0\n",
      "wav/UnevenBars_g15_c02.wav 3432 26 0 0 0 0 0 0\n",
      "wav/PlayingDaf_g16_c02.wav 3439 27 0 0 0 0 0 0\n",
      "wav/HandStandPushups_g03_c03.wav 3442 28 0 0 0 0 0 0\n",
      "wav/WallPushups_g19_c01.wav 3446 29 0 0 0 0 0 0\n",
      "wav/Knitting_g07_c04.wav 3451 30 0 0 0 0 0 0\n",
      "wav/FieldHockeyPenalty_g04_c01.wav 3453 31 0 0 0 0 0 0\n",
      "wav/Rafting_g08_c01.wav 3460 32 0 0 0 0 0 0\n",
      "wav/BandMarching_g25_c02.wav 3463 33 0 0 0 0 0 0\n",
      "wav/BasketballDunk_g23_c03.wav 3466 34 0 0 0 0 0 0\n",
      "wav/Typing_g01_c01.wav 3470 35 0 0 0 0 0 0\n",
      "wav/HammerThrow_g25_c03.wav 3475 36 0 0 0 0 0 0\n",
      "wav/FrontCrawl_g25_c03.wav 3477 37 0 0 0 0 0 0\n",
      "wav/FloorGymnastics_g23_c02.wav 3479 38 0 0 0 0 0 0\n",
      "wav/BoxingSpeedBag_g16_c01.wav 3481 39 0 0 0 0 0 0\n",
      "wav/Hammering_g07_c04.wav 3483 40 0 0 0 0 0 0\n",
      "wav/PlayingSitar_g21_c04.wav 3494 41 0 0 0 0 0 0\n",
      "wav/Typing_g10_c05.wav 3502 42 0 0 0 0 0 0\n",
      "wav/MoppingFloor_g03_c03.wav 3502 43 0 0 0 0 0 0\n",
      "wav/ApplyEyeMakeup_g15_c02.wav 3502 44 0 0 0 0 0 0\n",
      "wav/BabyCrawling_g06_c03.wav 3502 45 0 0 0 0 0 0\n",
      "wav/BlowingCandles_g02_c01.wav 3502 46 0 0 0 0 0 0\n",
      "wav/UnevenBars_g15_c07.wav 3502 47 0 0 0 0 0 0\n",
      "wav/UnevenBars_g03_c02.wav 3504 48 0 0 0 0 0 0\n",
      "wav/Archery_g22_c03.wav 3508 49 0 0 0 0 0 0\n",
      "wav/IceDancing_g17_c05.wav 3515 50 0 0 0 0 0 0\n",
      "wav/Typing_g01_c02.wav 3519 51 0 0 0 0 0 0\n",
      "wav/MoppingFloor_g05_c01.wav 3529 52 0 0 0 0 0 0\n",
      "wav/SoccerPenalty_g20_c04.wav 3531 53 0 0 0 0 0 0\n",
      "wav/BabyCrawling_g09_c01.wav 3535 54 0 0 0 0 0 0\n",
      "wav/HandStandPushups_g20_c02.wav 3539 55 0 0 0 0 0 0\n",
      "wav/BoxingSpeedBag_g03_c01.wav 3543 56 0 0 0 0 0 0\n",
      "wav/LongJump_g13_c01.wav 3547 57 0 0 0 0 0 0\n",
      "wav/TableTennisShot_g19_c04.wav 3553 58 0 0 0 0 0 0\n",
      "wav/FieldHockeyPenalty_g03_c04.wav 3554 59 0 0 0 0 0 0\n",
      "wav/Typing_g11_c01.wav 3558 60 0 0 0 0 0 0\n",
      "wav/Hammering_g21_c05.wav 3563 61 0 0 0 0 0 0\n",
      "wav/TableTennisShot_g11_c04.wav 3568 62 0 0 0 0 0 0\n",
      "wav/TableTennisShot_g02_c03.wav 3572 63 0 0 0 0 0 0\n",
      "wav/SoccerPenalty_g08_c03.wav 3578 64 0 0 0 0 0 0\n",
      "wav/BlowingCandles_g10_c03.wav 3580 65 0 0 0 0 0 0\n",
      "wav/PlayingDhol_g23_c03.wav 3590 66 0 0 0 0 0 0\n",
      "wav/ApplyEyeMakeup_g05_c02.wav 3595 67 0 0 0 0 0 0\n",
      "wav/PlayingFlute_g04_c04.wav 3603 68 0 0 0 0 0 0\n",
      "wav/CricketShot_g24_c07.wav 3606 69 0 0 0 0 0 0\n",
      "wav/Haircut_g12_c02.wav 3610 70 0 0 0 0 0 0\n",
      "wav/BoxingSpeedBag_g10_c04.wav 3614 71 0 0 0 0 0 0\n",
      "wav/PlayingCello_g10_c06.wav 3623 72 0 0 0 0 0 0\n",
      "wav/BandMarching_g06_c02.wav 3629 73 0 0 0 0 0 0\n",
      "wav/Rafting_g14_c02.wav 3634 74 0 0 0 0 0 0\n",
      "wav/PlayingDaf_g15_c04.wav 3642 75 0 0 0 0 0 0\n",
      "wav/MoppingFloor_g11_c02.wav 3647 76 0 0 0 0 0 0\n",
      "wav/BalanceBeam_g13_c04.wav 3651 77 0 0 0 0 0 0\n",
      "wav/Typing_g08_c03.wav 3659 78 0 0 0 0 0 0\n",
      "wav/BlowingCandles_g13_c02.wav 3662 79 0 0 0 0 0 0\n",
      "wav/ApplyLipstick_g12_c02.wav 3665 80 0 0 0 0 0 0\n",
      "wav/PlayingDaf_g21_c06.wav 3673 81 0 0 0 0 0 0\n",
      "wav/BasketballDunk_g06_c04.wav 3674 82 0 0 0 0 0 0\n",
      "wav/PlayingSitar_g08_c03.wav 3689 83 0 0 0 0 0 0\n",
      "wav/BoxingPunchingBag_g20_c01.wav 3693 84 0 0 0 0 0 0\n",
      "wav/ApplyEyeMakeup_g12_c03.wav 3697 85 0 0 0 0 0 0\n",
      "wav/Hammering_g16_c03.wav 3699 86 0 0 0 0 0 0\n",
      "wav/PlayingCello_g12_c02.wav 3702 87 0 0 0 0 0 0\n",
      "wav/HeadMassage_g06_c02.wav 3704 88 0 0 0 0 0 0\n",
      "wav/BandMarching_g13_c03.wav 3713 89 0 0 0 0 0 0\n",
      "wav/CuttingInKitchen_g24_c01.wav 3718 90 0 0 0 0 0 0\n",
      "wav/BalanceBeam_g11_c02.wav 3720 91 0 0 0 0 0 0\n",
      "wav/SoccerPenalty_g13_c02.wav 3723 92 0 0 0 0 0 0\n",
      "wav/FrontCrawl_g22_c03.wav 3731 93 0 0 0 0 0 0\n",
      "wav/PlayingCello_g07_c01.wav 3740 94 0 0 0 0 0 0\n",
      "wav/Hammering_g15_c05.wav 3745 95 0 0 0 0 0 0\n",
      "wav/PlayingCello_g25_c07.wav 3754 96 0 0 0 0 0 0\n",
      "wav/CliffDiving_g08_c01.wav 3757 97 0 0 0 0 0 0\n",
      "wav/Bowling_g08_c02.wav 3762 98 0 0 0 0 0 0\n",
      "wav/FieldHockeyPenalty_g13_c04.wav 3766 99 0 0 0 0 0 0\n",
      "wav/Knitting_g12_c01.wav 3769 100 0 0 0 0 0 0\n",
      "wav/BodyWeightSquats_g21_c02.wav 3771 101 0 0 0 0 0 0\n",
      "wav/CricketBowling_g06_c05.wav 3777 102 0 0 0 0 0 0\n",
      "wav/Typing_g01_c06.wav 3780 103 0 0 0 0 0 0\n",
      "wav/BalanceBeam_g16_c02.wav 3784 104 0 0 0 0 0 0\n",
      "wav/HandstandWalking_g10_c01.wav 3790 105 0 0 0 0 0 0\n",
      "wav/CricketBowling_g22_c07.wav 3793 106 0 0 0 0 0 0\n",
      "wav/HandstandWalking_g22_c03.wav 3798 107 0 0 0 0 0 0\n",
      "wav/BandMarching_g03_c05.wav 3803 108 0 0 0 0 0 0\n",
      "wav/WallPushups_g07_c04.wav 3806 109 0 0 0 0 0 0\n"
     ]
    }
   ],
   "metadata": {}
  },
  {
   "cell_type": "code",
   "execution_count": 4,
   "source": [
    "import glob as glob\n",
    "for i in range(1,9):\n",
    "    files  = glob.glob('ax/'+str(i)+'/*')\n",
    "    print(len(files))"
   ],
   "outputs": [
    {
     "output_type": "stream",
     "name": "stdout",
     "text": [
      "1740\n",
      "0\n",
      "0\n",
      "0\n",
      "0\n",
      "0\n",
      "0\n",
      "0\n"
     ]
    }
   ],
   "metadata": {}
  },
  {
   "cell_type": "code",
   "execution_count": 57,
   "source": [
    "files  = glob.glob('ax/'+str(i)+'/*')\n",
    "cat = files[0].split('/')[2].split('_')[0]\n",
    "cat # class name \n",
    "# mkdir cat\n"
   ],
   "outputs": [
    {
     "output_type": "execute_result",
     "data": {
      "text/plain": [
       "'BalanceBeam'"
      ]
     },
     "metadata": {},
     "execution_count": 57
    }
   ],
   "metadata": {}
  },
  {
   "cell_type": "code",
   "execution_count": null,
   "source": [
    "mkdir train\n",
    "mkdir test"
   ],
   "outputs": [],
   "metadata": {}
  },
  {
   "cell_type": "code",
   "execution_count": 92,
   "source": [
    "\n",
    "\n",
    "split = 2\n",
    "\n",
    "#get split files\n",
    "def get_split(number,train):\n",
    "    splits = [\n",
    "    #test = 0\n",
    "    ['/home/muhammadbsheikh/workspace/ucf101/splits/ucfTrainTestlist/testlist01.txt',\n",
    "    '/home/muhammadbsheikh/workspace/ucf101/splits/ucfTrainTestlist/testlist02.txt',\n",
    "    '/home/muhammadbsheikh/workspace/ucf101/splits/ucfTrainTestlist/testlist03.txt'],\n",
    "    #train = 1\n",
    "    ['/home/muhammadbsheikh/workspace/ucf101/splits/ucfTrainTestlist/trainlist01.txt',\n",
    "    '/home/muhammadbsheikh/workspace/ucf101/splits/ucfTrainTestlist/trainlist02.txt',\n",
    "    '/home/muhammadbsheikh/workspace/ucf101/splits/ucfTrainTestlist/trainlist03.txt']]\n",
    "    \n",
    "    files = []\n",
    "    file = open(splits[train][number])\n",
    "    lines = file.readlines()\n",
    "    for line in lines:\n",
    "        filename = line.split(' ')[0]\n",
    "        files.append(filename)\n",
    "    return files   \n",
    "\n",
    "\n",
    "files = get_split(2,False)\n",
    "len(files)\n"
   ],
   "outputs": [
    {
     "output_type": "execute_result",
     "data": {
      "text/plain": [
       "3696"
      ]
     },
     "metadata": {},
     "execution_count": 92
    }
   ],
   "metadata": {}
  },
  {
   "cell_type": "code",
   "execution_count": 83,
   "source": [
    "s1 = '/home/muhammadbsheikh/workspace/ucf101/splits/ucfTrainTestlist/testlist01.txt'\n",
    "s2 = '/home/muhammadbsheikh/workspace/ucf101/splits/ucfTrainTestlist/testlist02.txt'\n",
    "s3 = '/home/muhammadbsheikh/workspace/ucf101/splits/ucfTrainTestlist/testlist03.txt'\n",
    "\n",
    "r = open(s1)\n",
    "s1_split = []\n",
    "lines = r.readlines()\n",
    "for line in lines:\n",
    "    filename = line.split(' ')[0]\n",
    "    s1_split.append(filename)\n",
    "    \n",
    "print(len(s1_split)) "
   ],
   "outputs": [
    {
     "output_type": "stream",
     "name": "stdout",
     "text": [
      "3783\n"
     ]
    }
   ],
   "metadata": {}
  },
  {
   "cell_type": "code",
   "execution_count": 102,
   "source": [
    "files = glob.glob('wav/*')\n",
    "cats = set()\n",
    "for f in files:\n",
    "    cats.add(f.split('/')[1].split('_')[0])\n",
    "\n",
    "#create ax+1+cats\n",
    "# if file in cats move it to cats\n",
    "#ax+1+cats+filename"
   ],
   "outputs": [
    {
     "output_type": "stream",
     "name": "stdout",
     "text": [
      "51\n"
     ]
    }
   ],
   "metadata": {}
  }
 ],
 "metadata": {
  "interpreter": {
   "hash": "0239f972e8efcc00ec9fa7a595c90a818e30a75607d9e34132d6cc1dc8c76e26"
  },
  "kernelspec": {
   "display_name": "Python 3.8.8 64-bit ('pytorchpy38': conda)",
   "name": "python3"
  },
  "language_info": {
   "name": "python",
   "version": ""
  },
  "orig_nbformat": 4
 },
 "nbformat": 4,
 "nbformat_minor": 2
}