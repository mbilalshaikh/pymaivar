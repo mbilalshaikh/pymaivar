{
 "cells": [
  {
   "cell_type": "code",
   "execution_count": null,
   "source": [
    "cd /home/muhammadbsheikh/workspace/try"
   ],
   "outputs": [],
   "metadata": {}
  },
  {
   "cell_type": "code",
   "execution_count": null,
   "source": [
    "%matplotlib inline\n",
    "import matplotlib.pyplot as plt\n",
    "import matplotlib.image as mpimg\n",
    "import librosa.display\n",
    "\n",
    "def showimage(path):\n",
    "    img = mpimg.imread(path)\n",
    "    plt.imshow(img)\n",
    "    plt.axis('off')\n",
    "    plt.show()\n",
    "\n",
    "def show_audio(rep,path):\n",
    "    plt.axis('off')\n",
    "    if rep =='a1':\n",
    "        plt.figure(figsize=(14, 5))\n",
    "        librosa.display.waveplot(x, sr=sr)\n",
    "        #print('a1:waveplot')\n",
    "    else:\n",
    "        img = mpimg.imread(path)\n",
    "        plt.imshow(img)\n",
    "        plt.show()\n",
    "\n",
    "def get_specfilename(name,folder):\n",
    "    name = name.split('.')[0]\n",
    "    name =  name.split('/')[1].split('_')\n",
    "    name = folder+'_'.join(name)+'.png'\n",
    "    return name"
   ],
   "outputs": [],
   "metadata": {}
  },
  {
   "cell_type": "code",
   "execution_count": null,
   "source": [
    "import librosa\n",
    "import matplotlib.pyplot as plt\n",
    "import librosa.display\n",
    "import glob as glob\n",
    "import sklearn\n",
    "\n",
    "audio_files = glob.glob('wav/*')\n",
    "#audio = audio_files[0]\n",
    "\n",
    "for audio in audio_files:\n",
    "    #default sampling rate(sr) of 22KHZ mono\n",
    "    #sr=44100 for resampling\n",
    "    #load audio\n",
    "    x , sr = librosa.load(audio,sr=None)\n",
    "    #print(type(x), type(sr),x.shape, sr)\n",
    "    #a4\n",
    "    import sklearn\n",
    "    plt.figure(figsize=(5, 5))\n",
    "    spectral_centroids = librosa.feature.spectral_centroid(x, sr=sr)[0]\n",
    "    spectral_centroids.shape\n",
    "    (775,)\n",
    "    # Computing the time variable for visualization\n",
    "    frames = range(len(spectral_centroids))\n",
    "    t = librosa.frames_to_time(frames)\n",
    "    # Normalising the spectral centroid for visualisation\n",
    "    def normalize(x, axis=0):\n",
    "        return sklearn.preprocessing.minmax_scale(x, axis=axis)\n",
    "    #Plotting the Spectral Centroid along the waveform\n",
    "    librosa.display.waveplot(x, sr=sr, alpha=0.4)\n",
    "    plt.axis('off')\n",
    "    plt.plot(t, normalize(spectral_centroids), color='r')\n",
    "    out = get_specfilename(audio,'ax/4/')\n",
    "    #out = 'a4/a4.png'\n",
    "    plt.savefig(out)\n",
    "    \n",
    "    print(audio,len(glob.glob('ax/1/*')),len(glob.glob('ax/2/*')),len(glob.glob('ax/3/*')),len(glob.glob('ax/4/*')),\n",
    "         len(glob.glob('ax/5/*')),len(glob.glob('ax/6/*')),len(glob.glob('ax/7/*')),len(glob.glob('ax/8/*')))"
   ],
   "outputs": [],
   "metadata": {}
  },
  {
   "cell_type": "code",
   "execution_count": null,
   "source": [
    "import glob as glob\n",
    "for i in range(1,9):\n",
    "    files  = glob.glob('ax/'+str(i)+'/*')\n",
    "    print(len(files))"
   ],
   "outputs": [],
   "metadata": {}
  },
  {
   "cell_type": "code",
   "execution_count": null,
   "source": [
    "files  = glob.glob('ax/'+str(i)+'/*')\n",
    "cat = files[0].split('/')[2].split('_')[0]\n",
    "cat # class name \n",
    "# mkdir cat\n"
   ],
   "outputs": [],
   "metadata": {}
  },
  {
   "cell_type": "code",
   "execution_count": null,
   "source": [
    "mkdir train\n",
    "mkdir test"
   ],
   "outputs": [],
   "metadata": {}
  },
  {
   "cell_type": "code",
   "execution_count": null,
   "source": [
    "\n",
    "\n",
    "split = 2\n",
    "\n",
    "#get split files\n",
    "def get_split(number,train):\n",
    "    splits = [\n",
    "    #test = 0\n",
    "    ['/home/muhammadbsheikh/workspace/ucf101/splits/ucfTrainTestlist/testlist01.txt',\n",
    "    '/home/muhammadbsheikh/workspace/ucf101/splits/ucfTrainTestlist/testlist02.txt',\n",
    "    '/home/muhammadbsheikh/workspace/ucf101/splits/ucfTrainTestlist/testlist03.txt'],\n",
    "    #train = 1\n",
    "    ['/home/muhammadbsheikh/workspace/ucf101/splits/ucfTrainTestlist/trainlist01.txt',\n",
    "    '/home/muhammadbsheikh/workspace/ucf101/splits/ucfTrainTestlist/trainlist02.txt',\n",
    "    '/home/muhammadbsheikh/workspace/ucf101/splits/ucfTrainTestlist/trainlist03.txt']]\n",
    "    \n",
    "    files = []\n",
    "    file = open(splits[train][number])\n",
    "    lines = file.readlines()\n",
    "    for line in lines:\n",
    "        filename = line.split(' ')[0]\n",
    "        files.append(filename)\n",
    "    return files   \n",
    "\n",
    "\n",
    "files = get_split(2,False)\n",
    "len(files)\n"
   ],
   "outputs": [],
   "metadata": {}
  },
  {
   "cell_type": "code",
   "execution_count": null,
   "source": [
    "s1 = '/home/muhammadbsheikh/workspace/ucf101/splits/ucfTrainTestlist/testlist01.txt'\n",
    "s2 = '/home/muhammadbsheikh/workspace/ucf101/splits/ucfTrainTestlist/testlist02.txt'\n",
    "s3 = '/home/muhammadbsheikh/workspace/ucf101/splits/ucfTrainTestlist/testlist03.txt'\n",
    "\n",
    "r = open(s1)\n",
    "s1_split = []\n",
    "lines = r.readlines()\n",
    "for line in lines:\n",
    "    filename = line.split(' ')[0]\n",
    "    s1_split.append(filename)\n",
    "    \n",
    "print(len(s1_split)) "
   ],
   "outputs": [],
   "metadata": {}
  },
  {
   "cell_type": "code",
   "execution_count": null,
   "source": [
    "files = glob.glob('wav/*')\n",
    "cats = set()\n",
    "for f in files:\n",
    "    cats.add(f.split('/')[1].split('_')[0])\n",
    "\n",
    "#create ax+1+cats\n",
    "# if file in cats move it to cats\n",
    "#ax+1+cats+filename"
   ],
   "outputs": [],
   "metadata": {}
  }
 ],
 "metadata": {
  "interpreter": {
   "hash": "0239f972e8efcc00ec9fa7a595c90a818e30a75607d9e34132d6cc1dc8c76e26"
  },
  "kernelspec": {
   "display_name": "Python 3.8.8 64-bit ('pytorchpy38': conda)",
   "name": "python3"
  },
  "language_info": {
   "name": "python",
   "version": ""
  },
  "orig_nbformat": 4
 },
 "nbformat": 4,
 "nbformat_minor": 2
}