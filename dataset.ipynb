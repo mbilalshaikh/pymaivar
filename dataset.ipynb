{
 "cells": [
  {
   "cell_type": "code",
   "execution_count": 4,
   "metadata": {},
   "outputs": [
    {
     "name": "stdout",
     "output_type": "stream",
     "text": [
      "/home/muhammadbsheikh/workspace\n"
     ]
    }
   ],
   "source": [
    "cd /home/muhammadbsheikh/workspace"
   ]
  },
  {
   "cell_type": "code",
   "execution_count": 5,
   "metadata": {},
   "outputs": [],
   "source": [
    "ucfpath = '/home/muhammadbsheikh/workspace/ucf101' #https://www.crcv.ucf.edu/data/UCF101/UCF101.rar\n",
    "hmdbpath = '/home/muhammadbsheikh/workspace/hmdb'"
   ]
  },
  {
   "cell_type": "code",
   "execution_count": 8,
   "metadata": {},
   "outputs": [
    {
     "name": "stdout",
     "output_type": "stream",
     "text": [
      "--2021-06-14 14:55:09--  https://www.crcv.ucf.edu/data/UCF101/UCF101.rar\n",
      "Resolving www.crcv.ucf.edu (www.crcv.ucf.edu)... 132.170.214.127\n",
      "Connecting to www.crcv.ucf.edu (www.crcv.ucf.edu)|132.170.214.127|:443... connected.\n",
      "WARNING: cannot verify www.crcv.ucf.edu's certificate, issued by ‘CN=InCommon RSA Server CA,OU=InCommon,O=Internet2,L=Ann Arbor,ST=MI,C=US’:\n",
      "  Unable to locally verify the issuer's authority.\n",
      "HTTP request sent, awaiting response... 200 OK\n",
      "Length: 6932971618 (6.5G) [application/rar]\n",
      "Saving to: ‘UCF101.rar’\n",
      "\n",
      "UCF101.rar            9%[>                   ] 607.51M  4.62MB/s    eta 21m 20s"
     ]
    }
   ],
   "source": [
    "!wget https://www.crcv.ucf.edu/data/UCF101/UCF101.rar --no-check-certificate"
   ]
  }
 ],
 "metadata": {
  "interpreter": {
   "hash": "0239f972e8efcc00ec9fa7a595c90a818e30a75607d9e34132d6cc1dc8c76e26"
  },
  "kernelspec": {
   "display_name": "Python 3.8.8 64-bit ('pytorchpy38': conda)",
   "name": "python3"
  },
  "language_info": {
   "codemirror_mode": {
    "name": "ipython",
    "version": 3
   },
   "file_extension": ".py",
   "mimetype": "text/x-python",
   "name": "python",
   "nbconvert_exporter": "python",
   "pygments_lexer": "ipython3",
   "version": "3.8.8"
  },
  "orig_nbformat": 4
 },
 "nbformat": 4,
 "nbformat_minor": 2
}